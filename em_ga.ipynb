{
 "cells": [
  {
   "cell_type": "code",
   "execution_count": 1,
   "metadata": {},
   "outputs": [],
   "source": [
    "import numpy as np\n",
    "import matplotlib.pyplot as plt\n",
    "import torch\n",
    "import torch.nn as nn\n",
    "import torch.nn.functional as functional\n",
    "import torch.optim as optim"
   ]
  },
  {
   "cell_type": "code",
   "execution_count": 261,
   "metadata": {},
   "outputs": [],
   "source": [
    "class MultiResolutionHashEncoding(torch.nn.Module):\n",
    "    def __init__(self, image_size, L, F, T):\n",
    "        super().__init__()\n",
    "        self.image_size = image_size\n",
    "        self.L = L\n",
    "        self.F = F\n",
    "        self.T = T\n",
    "        self.feature_matrix = torch.nn.Parameter(torch.randn((self.T, self.F)))\n",
    "\n",
    "    def hash_function(self,x): #input: coordinates\n",
    "        x1, x2 = x\n",
    "        pi1 = 1\n",
    "        pi2 = 805459861\n",
    "        return ((int(x1)*pi1)^(int(x2)*pi2))%self.T\n",
    "\n",
    "    def distance(self,x1, x2):\n",
    "        return np.sqrt(np.sum(np.square(x1-x2)))\n",
    "\n",
    "    def forward(self, x):\n",
    "        output_tensor = torch.zeros(self.L*self.F, 0)\n",
    "        for i in range(x.shape[0]):\n",
    "            x1, x2 = x[i,:]\n",
    "            full_feature = torch.zeros(0, 1)\n",
    "            for l in range(self.L):\n",
    "                tile_size = self.image_size/(2**(l+1))\n",
    "                x1_floor = x1//tile_size\n",
    "                x2_floor = x2//tile_size\n",
    "\n",
    "                corner1 = (x1_floor*tile_size, x2_floor*tile_size)\n",
    "                corner2 = (x1_floor*tile_size, (x2_floor+1)*tile_size)\n",
    "                corner3 = ((x1_floor+1)*tile_size, x2_floor*tile_size)\n",
    "                corner4 = ((x1_floor+1)*tile_size, (x2_floor+1)*tile_size)\n",
    "\n",
    "                distance1 = self.distance(x, np.array(corner1))\n",
    "                distance2 = self.distance(x, np.array(corner2))\n",
    "                distance3 = self.distance(x, np.array(corner3))\n",
    "                distance4 = self.distance(x, np.array(corner4))\n",
    "\n",
    "                w1 = distance1/(distance1+distance2+distance3+distance4)\n",
    "                w2 = distance2/(distance1+distance2+distance3+distance4)\n",
    "                w3 = distance3/(distance1+distance2+distance3+distance4)\n",
    "                w4 = distance4/(distance1+distance2+distance3+distance4)\n",
    "\n",
    "                corner1_feature = self.feature_matrix[self.hash_function(corner1),:]\n",
    "                corner2_feature = self.feature_matrix[self.hash_function(corner2),:]\n",
    "                corner3_feature = self.feature_matrix[self.hash_function(corner3),:]\n",
    "                corner4_feature = self.feature_matrix[self.hash_function(corner4),:]\n",
    "\n",
    "                weighted_feature = w1*corner1_feature + w2*corner2_feature + w3*corner3_feature + w4*corner4_feature\n",
    "                full_feature = torch.concat([full_feature, weighted_feature[:,None]])\n",
    "            output_tensor = torch.concat([output_tensor, full_feature],1)\n",
    "        return torch.transpose(output_tensor, 0, 1)\n",
    "\n"
   ]
  },
  {
   "cell_type": "code",
   "execution_count": 262,
   "metadata": {},
   "outputs": [],
   "source": [
    "class EMNet(nn.Module):\n",
    "    def __init__(self, image_size, L, F, T):\n",
    "        super(EMNet, self).__init__()\n",
    "        self.encoding = MultiResolutionHashEncoding(image_size, L, F, T)\n",
    "        self.fc1 = nn.Linear(L*F, 64)\n",
    "        self.fc2 = nn.Linear(64, 2) #B_x and B_y\n",
    "\n",
    "    def forward(self, x):\n",
    "        x = self.encoding(x)\n",
    "        x = self.fc1(x)\n",
    "        x = functional.relu(x)\n",
    "        x = self.fc2(x)\n",
    "        output = functional.relu(x)\n",
    "        return output"
   ]
  },
  {
   "cell_type": "code",
   "execution_count": 263,
   "metadata": {},
   "outputs": [],
   "source": [
    "def sample_path(image_size=128, n=100): #return a list of coordinates with associated tangent vector and normal vector\n",
    "    circle_radius_max = image_size/4\n",
    "    circle_centre_range = image_size/4 \n",
    "    rectangle_side_length = image_size/4\n",
    "    rectangle_centre_range = image_size/4\n",
    "    current_position = (83, 64)\n",
    "    if np.random.uniform()<0.5: #circle\n",
    "        circle_radius = circle_radius_max*np.random.uniform()\n",
    "        circle_centre_x = circle_centre_range*np.random.uniform()\n",
    "        circle_centre_y = circle_centre_range*np.random.uniform()\n",
    "        circle_0 = [(np.cos(2*np.pi/n*x)*circle_radius,np.sin(2*np.pi/n*x)*circle_radius) for x in range(0,n)]\n",
    "        circle_coordinates = [(x+circle_centre_x+image_size/2, y+circle_centre_y+image_size/2) for (x,y) in circle_0]\n",
    "        circle_normal = [(x/(np.sqrt(x**2+y**2)), y/(np.sqrt(x**2+y**2))) for (x,y) in circle_0]\n",
    "        circle_tangent = [(-y/(np.sqrt(x**2+y**2)), x/(np.sqrt(x**2+y**2))) for (x,y) in circle_0]\n",
    "        if np.sqrt((current_position[0]-circle_centre_x)**2+(current_position[1]-circle_centre_y)**2) <= circle_radius:\n",
    "            j=1\n",
    "        else:\n",
    "            j=0\n",
    "        return (np.array(circle_coordinates), np.array(circle_normal), np.array(circle_tangent), j)\n",
    "    else: #rectangle\n",
    "        rectangle_x_length = rectangle_side_length*np.random.uniform()\n",
    "        rectangle_y_length = rectangle_side_length*np.random.uniform()\n",
    "        rectangle_centre_x = rectangle_centre_range*np.random.uniform()\n",
    "        rectangle_centre_y = rectangle_centre_range*np.random.uniform()\n",
    "        corner1 = (image_size/2+rectangle_centre_x+rectangle_x_length/2, image_size/2+rectangle_centre_y+rectangle_y_length/2)\n",
    "        corner2 = (image_size/2+rectangle_centre_x-rectangle_x_length/2, image_size/2+rectangle_centre_y+rectangle_y_length/2)\n",
    "        corner3 = (image_size/2+rectangle_centre_x-rectangle_x_length/2, image_size/2+rectangle_centre_y-rectangle_y_length/2)\n",
    "        corner4 = (image_size/2+rectangle_centre_x+rectangle_x_length/2, image_size/2+rectangle_centre_y-rectangle_y_length/2)\n",
    "        side1 = [(x, corner1[1]) for x in np.linspace(corner1[0],corner2[0] ,int(n/4))]\n",
    "        side2 = [(corner2[0], x) for x in np.linspace(corner2[1],corner3[1] ,int(n/4))]\n",
    "        side3 = [(x, corner3[1]) for x in np.linspace(corner3[0],corner4[0] ,int(n/4))]\n",
    "        side4 = [(corner4[0], x) for x in np.linspace(corner4[1],corner1[1] ,int(n/4))]\n",
    "        rectangle_coordinates = side1+side2+side3+side4\n",
    "        rectangle_normal = [(0,1)]*int(n/4)+[(-1,0)]*int(n/4)+[(0,-1)]*int(n/4)+[(1,0)]*int(n/4)\n",
    "        rectangle_tangent = [(-1,0)]*int(n/4)+[(0,-1)]*int(n/4)+[(1,0)]*int(n/4)+[(0,1)]*int(n/4)\n",
    "        if current_position[0] < corner1[0] and current_position[0] > corner2[0] and current_position[1] < corner1[1] and current_position[1] > corner4[1]:\n",
    "            j=1\n",
    "        else:\n",
    "            j=0\n",
    "        return (np.array(rectangle_coordinates), np.array(rectangle_normal), np.array(rectangle_tangent), j)\n",
    "        "
   ]
  },
  {
   "cell_type": "code",
   "execution_count": 264,
   "metadata": {},
   "outputs": [],
   "source": [
    "image_size = 128\n",
    "L = int(np.log2(128)) #64, 32, 16, 8, 4, 2, 1\n",
    "F = 2\n",
    "T = 2**12\n",
    "lr = 0.5  # learning rate\n",
    "\n",
    "model = EMNet(image_size, L,F,T)\n",
    "opt = optim.SGD(model.parameters(), lr=lr)"
   ]
  },
  {
   "cell_type": "code",
   "execution_count": 271,
   "metadata": {},
   "outputs": [
    {
     "data": {
      "text/plain": [
       "tensor(0.1067)"
      ]
     },
     "execution_count": 271,
     "metadata": {},
     "output_type": "execute_result"
    }
   ],
   "source": [
    "\n",
    "torch.sum(torch.mul(torch.rand(1,2), torch.rand(1,2)))"
   ]
  },
  {
   "cell_type": "code",
   "execution_count": 274,
   "metadata": {},
   "outputs": [
    {
     "name": "stdout",
     "output_type": "stream",
     "text": [
      "0\n",
      "1\n",
      "2\n",
      "3\n",
      "4\n",
      "5\n",
      "6\n",
      "7\n"
     ]
    },
    {
     "ename": "KeyboardInterrupt",
     "evalue": "",
     "output_type": "error",
     "traceback": [
      "\u001b[1;31m---------------------------------------------------------------------------\u001b[0m",
      "\u001b[1;31mKeyboardInterrupt\u001b[0m                         Traceback (most recent call last)",
      "\u001b[1;32mc:\\Users\\cheng\\Documents\\personal_projects\\em_ga.ipynb Cell 7\u001b[0m in \u001b[0;36m<cell line: 10>\u001b[1;34m()\u001b[0m\n\u001b[0;32m     <a href='vscode-notebook-cell:/c%3A/Users/cheng/Documents/personal_projects/em_ga.ipynb#W5sZmlsZQ%3D%3D?line=10'>11</a>\u001b[0m \u001b[39mprint\u001b[39m(_)\n\u001b[0;32m     <a href='vscode-notebook-cell:/c%3A/Users/cheng/Documents/personal_projects/em_ga.ipynb#W5sZmlsZQ%3D%3D?line=11'>12</a>\u001b[0m path \u001b[39m=\u001b[39m sample_path()\n\u001b[1;32m---> <a href='vscode-notebook-cell:/c%3A/Users/cheng/Documents/personal_projects/em_ga.ipynb#W5sZmlsZQ%3D%3D?line=12'>13</a>\u001b[0m pred \u001b[39m=\u001b[39m model(path[\u001b[39m0\u001b[39;49m])\n\u001b[0;32m     <a href='vscode-notebook-cell:/c%3A/Users/cheng/Documents/personal_projects/em_ga.ipynb#W5sZmlsZQ%3D%3D?line=13'>14</a>\u001b[0m loss \u001b[39m=\u001b[39m loss_func(path, pred)\n\u001b[0;32m     <a href='vscode-notebook-cell:/c%3A/Users/cheng/Documents/personal_projects/em_ga.ipynb#W5sZmlsZQ%3D%3D?line=14'>15</a>\u001b[0m loss\u001b[39m.\u001b[39mbackward()\n",
      "File \u001b[1;32mc:\\Users\\cheng\\miniconda3\\envs\\ml\\lib\\site-packages\\torch\\nn\\modules\\module.py:1130\u001b[0m, in \u001b[0;36mModule._call_impl\u001b[1;34m(self, *input, **kwargs)\u001b[0m\n\u001b[0;32m   1126\u001b[0m \u001b[39m# If we don't have any hooks, we want to skip the rest of the logic in\u001b[39;00m\n\u001b[0;32m   1127\u001b[0m \u001b[39m# this function, and just call forward.\u001b[39;00m\n\u001b[0;32m   1128\u001b[0m \u001b[39mif\u001b[39;00m \u001b[39mnot\u001b[39;00m (\u001b[39mself\u001b[39m\u001b[39m.\u001b[39m_backward_hooks \u001b[39mor\u001b[39;00m \u001b[39mself\u001b[39m\u001b[39m.\u001b[39m_forward_hooks \u001b[39mor\u001b[39;00m \u001b[39mself\u001b[39m\u001b[39m.\u001b[39m_forward_pre_hooks \u001b[39mor\u001b[39;00m _global_backward_hooks\n\u001b[0;32m   1129\u001b[0m         \u001b[39mor\u001b[39;00m _global_forward_hooks \u001b[39mor\u001b[39;00m _global_forward_pre_hooks):\n\u001b[1;32m-> 1130\u001b[0m     \u001b[39mreturn\u001b[39;00m forward_call(\u001b[39m*\u001b[39m\u001b[39minput\u001b[39m, \u001b[39m*\u001b[39m\u001b[39m*\u001b[39mkwargs)\n\u001b[0;32m   1131\u001b[0m \u001b[39m# Do not call functions when jit is used\u001b[39;00m\n\u001b[0;32m   1132\u001b[0m full_backward_hooks, non_full_backward_hooks \u001b[39m=\u001b[39m [], []\n",
      "\u001b[1;32mc:\\Users\\cheng\\Documents\\personal_projects\\em_ga.ipynb Cell 7\u001b[0m in \u001b[0;36mEMNet.forward\u001b[1;34m(self, x)\u001b[0m\n\u001b[0;32m      <a href='vscode-notebook-cell:/c%3A/Users/cheng/Documents/personal_projects/em_ga.ipynb#W5sZmlsZQ%3D%3D?line=7'>8</a>\u001b[0m \u001b[39mdef\u001b[39;00m \u001b[39mforward\u001b[39m(\u001b[39mself\u001b[39m, x):\n\u001b[1;32m----> <a href='vscode-notebook-cell:/c%3A/Users/cheng/Documents/personal_projects/em_ga.ipynb#W5sZmlsZQ%3D%3D?line=8'>9</a>\u001b[0m     x \u001b[39m=\u001b[39m \u001b[39mself\u001b[39;49m\u001b[39m.\u001b[39;49mencoding(x)\n\u001b[0;32m     <a href='vscode-notebook-cell:/c%3A/Users/cheng/Documents/personal_projects/em_ga.ipynb#W5sZmlsZQ%3D%3D?line=9'>10</a>\u001b[0m     x \u001b[39m=\u001b[39m \u001b[39mself\u001b[39m\u001b[39m.\u001b[39mfc1(x)\n\u001b[0;32m     <a href='vscode-notebook-cell:/c%3A/Users/cheng/Documents/personal_projects/em_ga.ipynb#W5sZmlsZQ%3D%3D?line=10'>11</a>\u001b[0m     x \u001b[39m=\u001b[39m functional\u001b[39m.\u001b[39mrelu(x)\n",
      "File \u001b[1;32mc:\\Users\\cheng\\miniconda3\\envs\\ml\\lib\\site-packages\\torch\\nn\\modules\\module.py:1130\u001b[0m, in \u001b[0;36mModule._call_impl\u001b[1;34m(self, *input, **kwargs)\u001b[0m\n\u001b[0;32m   1126\u001b[0m \u001b[39m# If we don't have any hooks, we want to skip the rest of the logic in\u001b[39;00m\n\u001b[0;32m   1127\u001b[0m \u001b[39m# this function, and just call forward.\u001b[39;00m\n\u001b[0;32m   1128\u001b[0m \u001b[39mif\u001b[39;00m \u001b[39mnot\u001b[39;00m (\u001b[39mself\u001b[39m\u001b[39m.\u001b[39m_backward_hooks \u001b[39mor\u001b[39;00m \u001b[39mself\u001b[39m\u001b[39m.\u001b[39m_forward_hooks \u001b[39mor\u001b[39;00m \u001b[39mself\u001b[39m\u001b[39m.\u001b[39m_forward_pre_hooks \u001b[39mor\u001b[39;00m _global_backward_hooks\n\u001b[0;32m   1129\u001b[0m         \u001b[39mor\u001b[39;00m _global_forward_hooks \u001b[39mor\u001b[39;00m _global_forward_pre_hooks):\n\u001b[1;32m-> 1130\u001b[0m     \u001b[39mreturn\u001b[39;00m forward_call(\u001b[39m*\u001b[39m\u001b[39minput\u001b[39m, \u001b[39m*\u001b[39m\u001b[39m*\u001b[39mkwargs)\n\u001b[0;32m   1131\u001b[0m \u001b[39m# Do not call functions when jit is used\u001b[39;00m\n\u001b[0;32m   1132\u001b[0m full_backward_hooks, non_full_backward_hooks \u001b[39m=\u001b[39m [], []\n",
      "\u001b[1;32mc:\\Users\\cheng\\Documents\\personal_projects\\em_ga.ipynb Cell 7\u001b[0m in \u001b[0;36mMultiResolutionHashEncoding.forward\u001b[1;34m(self, x)\u001b[0m\n\u001b[0;32m     <a href='vscode-notebook-cell:/c%3A/Users/cheng/Documents/personal_projects/em_ga.ipynb#W5sZmlsZQ%3D%3D?line=46'>47</a>\u001b[0m         corner4_feature \u001b[39m=\u001b[39m \u001b[39mself\u001b[39m\u001b[39m.\u001b[39mfeature_matrix[\u001b[39mself\u001b[39m\u001b[39m.\u001b[39mhash_function(corner4),:]\n\u001b[0;32m     <a href='vscode-notebook-cell:/c%3A/Users/cheng/Documents/personal_projects/em_ga.ipynb#W5sZmlsZQ%3D%3D?line=48'>49</a>\u001b[0m         weighted_feature \u001b[39m=\u001b[39m w1\u001b[39m*\u001b[39mcorner1_feature \u001b[39m+\u001b[39m w2\u001b[39m*\u001b[39mcorner2_feature \u001b[39m+\u001b[39m w3\u001b[39m*\u001b[39mcorner3_feature \u001b[39m+\u001b[39m w4\u001b[39m*\u001b[39mcorner4_feature\n\u001b[1;32m---> <a href='vscode-notebook-cell:/c%3A/Users/cheng/Documents/personal_projects/em_ga.ipynb#W5sZmlsZQ%3D%3D?line=49'>50</a>\u001b[0m         full_feature \u001b[39m=\u001b[39m torch\u001b[39m.\u001b[39;49mconcat([full_feature, weighted_feature[:,\u001b[39mNone\u001b[39;49;00m]])\n\u001b[0;32m     <a href='vscode-notebook-cell:/c%3A/Users/cheng/Documents/personal_projects/em_ga.ipynb#W5sZmlsZQ%3D%3D?line=50'>51</a>\u001b[0m     output_tensor \u001b[39m=\u001b[39m torch\u001b[39m.\u001b[39mconcat([output_tensor, full_feature],\u001b[39m1\u001b[39m)\n\u001b[0;32m     <a href='vscode-notebook-cell:/c%3A/Users/cheng/Documents/personal_projects/em_ga.ipynb#W5sZmlsZQ%3D%3D?line=51'>52</a>\u001b[0m \u001b[39mreturn\u001b[39;00m torch\u001b[39m.\u001b[39mtranspose(output_tensor, \u001b[39m0\u001b[39m, \u001b[39m1\u001b[39m)\n",
      "\u001b[1;31mKeyboardInterrupt\u001b[0m: "
     ]
    }
   ],
   "source": [
    "\n",
    "def loss_func(path, pred):\n",
    "    coordinates = path[0]\n",
    "    normal_vecs = torch.from_numpy(path[1])\n",
    "    tangent_vecs = torch.from_numpy(path[2])\n",
    "    j = path[3]\n",
    "    loss1 = torch.sum(torch.mul(pred, normal_vecs))\n",
    "    loss2 = torch.sum(torch.mul(pred, tangent_vecs))-1 if j else torch.sum(torch.mul(pred, tangent_vecs))\n",
    "    return loss1+loss2\n",
    "\n",
    "for _ in range(100):\n",
    "    print(_)\n",
    "    path = sample_path()\n",
    "    pred = model(path[0])\n",
    "    loss = loss_func(path, pred)\n",
    "    loss.backward()\n",
    "    opt.step()\n",
    "    opt.zero_grad()"
   ]
  },
  {
   "cell_type": "code",
   "execution_count": null,
   "metadata": {},
   "outputs": [],
   "source": []
  }
 ],
 "metadata": {
  "kernelspec": {
   "display_name": "Python 3.9.7 ('ml')",
   "language": "python",
   "name": "python3"
  },
  "language_info": {
   "codemirror_mode": {
    "name": "ipython",
    "version": 3
   },
   "file_extension": ".py",
   "mimetype": "text/x-python",
   "name": "python",
   "nbconvert_exporter": "python",
   "pygments_lexer": "ipython3",
   "version": "3.9.7"
  },
  "orig_nbformat": 4,
  "vscode": {
   "interpreter": {
    "hash": "55ee67ca95ee8f2aeaeec8596b5a6d7efa8132a3ef6eb56881e1057cc4b5139b"
   }
  }
 },
 "nbformat": 4,
 "nbformat_minor": 2
}
