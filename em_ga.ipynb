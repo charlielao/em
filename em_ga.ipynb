{
 "cells": [
  {
   "cell_type": "code",
   "execution_count": 1,
   "metadata": {},
   "outputs": [],
   "source": [
    "import numpy as np\n",
    "import matplotlib.pyplot as plt\n",
    "import torch\n",
    "import torch.nn as nn\n",
    "import torch.nn.functional as functional\n",
    "import torch.optim as optim\n",
    "from shapely.geometry import Polygon, Point, MultiPolygon"
   ]
  },
  {
   "cell_type": "code",
   "execution_count": 2,
   "metadata": {},
   "outputs": [],
   "source": [
    "iron = Polygon([[32, 68], [32, 96], [96, 96], [96, 32], [32, 32], [32, 60], [40, 60], [40, 40], [88, 40], [88, 88], [40, 88], [40, 68]])\n",
    "wire = Polygon([[82, 63], [82, 64], [83, 64], [83, 63]])\n",
    "combined = MultiPolygon([iron, wire])"
   ]
  },
  {
   "cell_type": "code",
   "execution_count": 3,
   "metadata": {},
   "outputs": [
    {
     "data": {
      "image/png": "[encoded data removed]",
      "text/plain": [
       "<Figure size 432x288 with 1 Axes>"
      ]
     },
     "metadata": {
      "needs_background": "light"
     },
     "output_type": "display_data"
    }
   ],
   "source": [
    "x,y = iron.exterior.xy\n",
    "plt.plot(x,y)\n",
    "x,y = wire.exterior.xy\n",
    "plt.plot(x,y)\n",
    "plt.xlim(0, 128)\n",
    "plt.ylim(0, 128)\n",
    "plt.gca().set_aspect('equal', adjustable='box')\n",
    "\n"
   ]
  },
  {
   "cell_type": "code",
   "execution_count": 4,
   "metadata": {},
   "outputs": [],
   "source": [
    "class MultiResolutionHashEncoding(torch.nn.Module):\n",
    "    def __init__(self, image_size, L, F, T):\n",
    "        super().__init__()\n",
    "        self.image_size = image_size\n",
    "        self.L = L\n",
    "        self.F = F\n",
    "        self.T = T\n",
    "        self.feature_matrix = torch.nn.Parameter(torch.randn((self.T, self.F)))\n",
    "\n",
    "    def hash_function(self,x): #input: coordinates\n",
    "        x1, x2 = x\n",
    "        pi1 = 1\n",
    "        pi2 = 805459861\n",
    "        return ((int(x1)*pi1)^(int(x2)*pi2))%self.T\n",
    "\n",
    "    def distance(self,x1, x2):\n",
    "        return np.sqrt(np.sum(np.square(x1-x2)))\n",
    "\n",
    "    def forward(self, x):\n",
    "        output_tensor = torch.zeros(self.L*self.F, 0)\n",
    "        for i in range(x.shape[0]):\n",
    "            x1, x2 = x[i,:]\n",
    "            full_feature = torch.zeros(0, 1)\n",
    "            for l in range(self.L):\n",
    "                tile_size = self.image_size/(2**(l+1))\n",
    "                x1_floor = x1//tile_size\n",
    "                x2_floor = x2//tile_size\n",
    "\n",
    "                corner1 = (x1_floor*tile_size, x2_floor*tile_size)\n",
    "                corner2 = (x1_floor*tile_size, (x2_floor+1)*tile_size)\n",
    "                corner3 = ((x1_floor+1)*tile_size, x2_floor*tile_size)\n",
    "                corner4 = ((x1_floor+1)*tile_size, (x2_floor+1)*tile_size)\n",
    "\n",
    "                distance1 = self.distance(x, np.array(corner1))\n",
    "                distance2 = self.distance(x, np.array(corner2))\n",
    "                distance3 = self.distance(x, np.array(corner3))\n",
    "                distance4 = self.distance(x, np.array(corner4))\n",
    "\n",
    "                w1 = distance1/(distance1+distance2+distance3+distance4)\n",
    "                w2 = distance2/(distance1+distance2+distance3+distance4)\n",
    "                w3 = distance3/(distance1+distance2+distance3+distance4)\n",
    "                w4 = distance4/(distance1+distance2+distance3+distance4)\n",
    "\n",
    "                corner1_feature = self.feature_matrix[self.hash_function(corner1),:]\n",
    "                corner2_feature = self.feature_matrix[self.hash_function(corner2),:]\n",
    "                corner3_feature = self.feature_matrix[self.hash_function(corner3),:]\n",
    "                corner4_feature = self.feature_matrix[self.hash_function(corner4),:]\n",
    "\n",
    "                weighted_feature = w1*corner1_feature + w2*corner2_feature + w3*corner3_feature + w4*corner4_feature\n",
    "                full_feature = torch.concat([full_feature, weighted_feature[:,None]])\n",
    "            output_tensor = torch.concat([output_tensor, full_feature],1)\n",
    "        return torch.transpose(output_tensor, 0, 1)\n",
    "\n"
   ]
  },
  {
   "cell_type": "code",
   "execution_count": 5,
   "metadata": {},
   "outputs": [],
   "source": [
    "class EMNet(nn.Module):\n",
    "    def __init__(self, image_size, L, F, T):\n",
    "        super(EMNet, self).__init__()\n",
    "        self.encoding = MultiResolutionHashEncoding(image_size, L, F, T)\n",
    "        self.fc1 = nn.Linear(L*F, 64)\n",
    "        self.fc2 = nn.Linear(64, 2) #B_x and B_y\n",
    "\n",
    "    def forward(self, x):\n",
    "        x = self.encoding(x)\n",
    "        x = self.fc1(x)\n",
    "        x = functional.relu(x)\n",
    "        x = self.fc2(x)\n",
    "        output = functional.relu(x)\n",
    "        return output"
   ]
  },
  {
   "cell_type": "code",
   "execution_count": 6,
   "metadata": {},
   "outputs": [],
   "source": [
    "def sample_path(image_size=128, n=100): #return a list of coordinates with associated tangent vector and normal vector\n",
    "    circle_radius_max = image_size/4\n",
    "    circle_centre_range = image_size/4 \n",
    "    rectangle_side_length = image_size/4\n",
    "    rectangle_centre_range = image_size/4\n",
    "    current_position = (83, 64)\n",
    "    if np.random.uniform()<0.5: #circle\n",
    "        circle_radius = circle_radius_max*np.random.uniform()\n",
    "        circle_centre_x = circle_centre_range*np.random.uniform()\n",
    "        circle_centre_y = circle_centre_range*np.random.uniform()\n",
    "        circle_0 = [(np.cos(2*np.pi/n*x)*circle_radius,np.sin(2*np.pi/n*x)*circle_radius) for x in range(0,n)]\n",
    "        circle_coordinates = [(x+circle_centre_x+image_size/2, y+circle_centre_y+image_size/2) for (x,y) in circle_0]\n",
    "        circle_normal = [(x/(np.sqrt(x**2+y**2)), y/(np.sqrt(x**2+y**2))) for (x,y) in circle_0]\n",
    "        circle_tangent = [(-y/(np.sqrt(x**2+y**2)), x/(np.sqrt(x**2+y**2))) for (x,y) in circle_0]\n",
    "        if np.sqrt((current_position[0]-circle_centre_x)**2+(current_position[1]-circle_centre_y)**2) <= circle_radius:\n",
    "            j=1\n",
    "        else:\n",
    "            j=0\n",
    "        return (np.array(circle_coordinates), np.array(circle_normal), np.array(circle_tangent), j, np.array([iron.contains(Point([x, y])) for (x,y) in circle_coordinates]))\n",
    "    else: #rectangle\n",
    "        rectangle_x_length = rectangle_side_length*np.random.uniform()\n",
    "        rectangle_y_length = rectangle_side_length*np.random.uniform()\n",
    "        rectangle_centre_x = rectangle_centre_range*np.random.uniform()\n",
    "        rectangle_centre_y = rectangle_centre_range*np.random.uniform()\n",
    "        corner1 = (image_size/2+rectangle_centre_x+rectangle_x_length/2, image_size/2+rectangle_centre_y+rectangle_y_length/2)\n",
    "        corner2 = (image_size/2+rectangle_centre_x-rectangle_x_length/2, image_size/2+rectangle_centre_y+rectangle_y_length/2)\n",
    "        corner3 = (image_size/2+rectangle_centre_x-rectangle_x_length/2, image_size/2+rectangle_centre_y-rectangle_y_length/2)\n",
    "        corner4 = (image_size/2+rectangle_centre_x+rectangle_x_length/2, image_size/2+rectangle_centre_y-rectangle_y_length/2)\n",
    "        side1 = [(x, corner1[1]) for x in np.linspace(corner1[0],corner2[0] ,int(n/4))]\n",
    "        side2 = [(corner2[0], x) for x in np.linspace(corner2[1],corner3[1] ,int(n/4))]\n",
    "        side3 = [(x, corner3[1]) for x in np.linspace(corner3[0],corner4[0] ,int(n/4))]\n",
    "        side4 = [(corner4[0], x) for x in np.linspace(corner4[1],corner1[1] ,int(n/4))]\n",
    "        rectangle_coordinates = side1+side2+side3+side4\n",
    "        rectangle_normal = [(0,1)]*int(n/4)+[(-1,0)]*int(n/4)+[(0,-1)]*int(n/4)+[(1,0)]*int(n/4)\n",
    "        rectangle_tangent = [(-1,0)]*int(n/4)+[(0,-1)]*int(n/4)+[(1,0)]*int(n/4)+[(0,1)]*int(n/4)\n",
    "        if current_position[0] < corner1[0] and current_position[0] > corner2[0] and current_position[1] < corner1[1] and current_position[1] > corner4[1]:\n",
    "            j=1\n",
    "        else:\n",
    "            j=0\n",
    "        return (np.array(rectangle_coordinates), np.array(rectangle_normal), np.array(rectangle_tangent), j, np.array([iron.contains(Point([x, y])) for (x,y) in rectangle_coordinates]))\n",
    "        "
   ]
  },
  {
   "cell_type": "code",
   "execution_count": 7,
   "metadata": {},
   "outputs": [],
   "source": [
    "mu_air = 1e-6\n",
    "mu_iron_low  = 1\n",
    "mu_iron_high = 20\n",
    "\n",
    "def loss_func(path, pred):\n",
    "    coordinates = path[0]\n",
    "    normal_vecs = torch.from_numpy(path[1])\n",
    "    tangent_vecs = torch.from_numpy(path[2])\n",
    "    j = path[3]\n",
    "    material = path[4]\n",
    "\n",
    "    mu_vecs = np.array([mu_air if m else mu_iron_low for m in material])\n",
    "    B_threshold = (max(np.sqrt(np.sum(np.square(pred.detach().numpy()),0)))-min(np.sqrt(np.sum(np.square(pred.detach().numpy()),0))))/2\n",
    "    B_filter = np.apply_along_axis(lambda x: x>B_threshold, 0, np.sqrt(np.sum(np.square(pred.detach().numpy()),1)))\n",
    "    mu_vecs = torch.from_numpy(np.where(B_filter, mu_vecs*mu_iron_high/mu_iron_low, mu_vecs))\n",
    "\n",
    "    loss1 = torch.sum(torch.mul(pred, normal_vecs))\n",
    "    loss2 = torch.sum(torch.div(torch.sum(torch.mul(pred, tangent_vecs),1), mu_vecs))\n",
    "    loss2 = loss2-1 if j else loss2\n",
    "    return loss1+loss2"
   ]
  },
  {
   "cell_type": "code",
   "execution_count": 8,
   "metadata": {},
   "outputs": [],
   "source": [
    "image_size = 128\n",
    "L = int(np.log2(128)) #64, 32, 16, 8, 4, 2, 1\n",
    "F = 2\n",
    "T = 2**12\n",
    "lr = 0.5  # learning rate\n",
    "\n",
    "model = EMNet(image_size, L,F,T)\n",
    "opt = optim.SGD(model.parameters(), lr=lr)"
   ]
  },
  {
   "cell_type": "code",
   "execution_count": 42,
   "metadata": {},
   "outputs": [
    {
     "name": "stdout",
     "output_type": "stream",
     "text": [
      "nan\r"
     ]
    },
    {
     "data": {
      "image/png": "[encoded data removed]",
      "text/plain": [
       "<Figure size 432x288 with 1 Axes>"
      ]
     },
     "metadata": {
      "needs_background": "light"
     },
     "output_type": "display_data"
    }
   ],
   "source": [
    "x,y = iron.exterior.xy\n",
    "plt.plot(x,y)\n",
    "x,y = wire.exterior.xy\n",
    "plt.plot(x,y)\n",
    "plt.xlim(0, 128)\n",
    "plt.ylim(0, 128)\n",
    "plt.gca().set_aspect('equal', adjustable='box')\n",
    "for _ in range(10):\n",
    "    path = sample_path()\n",
    "    pred = model(path[0])\n",
    "    loss = loss_func(path, pred)\n",
    "    loss.backward()\n",
    "    opt.step()\n",
    "    opt.zero_grad()\n",
    "    plt.plot(path[0][:,0], path[0][:,1])\n",
    "    print(loss.detach().numpy(), end='\\r')\n",
    "plt.show()\n",
    "\n"
   ]
  }
 ],
 "metadata": {
  "kernelspec": {
   "display_name": "Python 3.9.7 ('ml')",
   "language": "python",
   "name": "python3"
  },
  "language_info": {
   "codemirror_mode": {
    "name": "ipython",
    "version": 3
   },
   "file_extension": ".py",
   "mimetype": "text/x-python",
   "name": "python",
   "nbconvert_exporter": "python",
   "pygments_lexer": "ipython3",
   "version": "3.9.7"
  },
  "orig_nbformat": 4,
  "vscode": {
   "interpreter": {
    "hash": "55ee67ca95ee8f2aeaeec8596b5a6d7efa8132a3ef6eb56881e1057cc4b5139b"
   }
  }
 },
 "nbformat": 4,
 "nbformat_minor": 2
}
